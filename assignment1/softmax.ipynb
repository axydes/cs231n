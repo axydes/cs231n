{
 "metadata": {
  "name": "",
  "signature": "sha256:4ef23bc957aa5333596245f6de7a0f979d92ab4f5fe9f29eb7d6a129c288f626"
 },
 "nbformat": 3,
 "nbformat_minor": 0,
 "worksheets": [
  {
   "cells": [
    {
     "cell_type": "markdown",
     "metadata": {},
     "source": [
      "# Softmax exercise\n",
      "\n",
      "*Complete and hand in this completed worksheet (including its outputs and any supporting code outside of the worksheet) with your assignment submission. For more details see the [assignments page](http://vision.stanford.edu/teaching/cs231n/assignments.html) on the course website.*\n",
      "\n",
      "This exercise is analogous to the SVM exercise. You will:\n",
      "\n",
      "- implement a fully-vectorized **loss function** for the Softmax classifier\n",
      "- implement the fully-vectorized expression for its **analytic gradient**\n",
      "- **check your implementation** with numerical gradient\n",
      "- use a validation set to **tune the learning rate and regularization** strength\n",
      "- **optimize** the loss function with **SGD**\n",
      "- **visualize** the final learned weights\n"
     ]
    },
    {
     "cell_type": "code",
     "collapsed": false,
     "input": [
      "import random\n",
      "import numpy as np\n",
      "from cs231n.data_utils import load_CIFAR10\n",
      "import matplotlib.pyplot as plt\n",
      "%matplotlib inline\n",
      "plt.rcParams['figure.figsize'] = (10.0, 8.0) # set default size of plots\n",
      "plt.rcParams['image.interpolation'] = 'nearest'\n",
      "plt.rcParams['image.cmap'] = 'gray'\n",
      "\n",
      "# for auto-reloading extenrnal modules\n",
      "# see http://stackoverflow.com/questions/1907993/autoreload-of-modules-in-ipython\n",
      "%load_ext autoreload\n",
      "%autoreload 2"
     ],
     "language": "python",
     "metadata": {},
     "outputs": [],
     "prompt_number": 1
    },
    {
     "cell_type": "code",
     "collapsed": false,
     "input": [
      "def get_CIFAR10_data(num_training=49000, num_validation=1000, num_test=1000):\n",
      "  \"\"\"\n",
      "  Load the CIFAR-10 dataset from disk and perform preprocessing to prepare\n",
      "  it for the linear classifier. These are the same steps as we used for the\n",
      "  SVM, but condensed to a single function.  \n",
      "  \"\"\"\n",
      "  # Load the raw CIFAR-10 data\n",
      "  cifar10_dir = 'cs231n/datasets/cifar-10-batches-py'\n",
      "  X_train, y_train, X_test, y_test = load_CIFAR10(cifar10_dir)\n",
      "  \n",
      "  # subsample the data\n",
      "  mask = range(num_training, num_training + num_validation)\n",
      "  X_val = X_train[mask]\n",
      "  y_val = y_train[mask]\n",
      "  mask = range(num_training)\n",
      "  X_train = X_train[mask]\n",
      "  y_train = y_train[mask]\n",
      "  mask = range(num_test)\n",
      "  X_test = X_test[mask]\n",
      "  y_test = y_test[mask]\n",
      "  \n",
      "  # Preprocessing: reshape the image data into rows\n",
      "  X_train = np.reshape(X_train, (X_train.shape[0], -1))\n",
      "  X_val = np.reshape(X_val, (X_val.shape[0], -1))\n",
      "  X_test = np.reshape(X_test, (X_test.shape[0], -1))\n",
      "  \n",
      "  # Normalize the data: subtract the mean image\n",
      "  mean_image = np.mean(X_train, axis = 0)\n",
      "  X_train -= mean_image\n",
      "  X_val -= mean_image\n",
      "  X_test -= mean_image\n",
      "  \n",
      "  # add bias dimension and transform into columns\n",
      "  X_train = np.hstack([X_train, np.ones((X_train.shape[0], 1))]).T\n",
      "  X_val = np.hstack([X_val, np.ones((X_val.shape[0], 1))]).T\n",
      "  X_test = np.hstack([X_test, np.ones((X_test.shape[0], 1))]).T\n",
      "  \n",
      "  return X_train, y_train, X_val, y_val, X_test, y_test\n",
      "\n",
      "\n",
      "# Invoke the above function to get our data.\n",
      "X_train, y_train, X_val, y_val, X_test, y_test = get_CIFAR10_data()\n",
      "print 'Train data shape: ', X_train.shape\n",
      "print 'Train labels shape: ', y_train.shape\n",
      "print 'Validation data shape: ', X_val.shape\n",
      "print 'Validation labels shape: ', y_val.shape\n",
      "print 'Test data shape: ', X_test.shape\n",
      "print 'Test labels shape: ', y_test.shape"
     ],
     "language": "python",
     "metadata": {},
     "outputs": [
      {
       "output_type": "stream",
       "stream": "stdout",
       "text": [
        "Train data shape:  (3073, 49000)\n",
        "Train labels shape:  (49000,)\n",
        "Validation data shape:  (3073, 1000)\n",
        "Validation labels shape:  (1000,)\n",
        "Test data shape:  (3073, 1000)\n",
        "Test labels shape:  (1000,)\n"
       ]
      }
     ],
     "prompt_number": 2
    },
    {
     "cell_type": "markdown",
     "metadata": {},
     "source": [
      "## Softmax Classifier\n",
      "\n",
      "Your code for this section will all be written inside **cs231n/classifiers/softmax.py**. \n"
     ]
    },
    {
     "cell_type": "code",
     "collapsed": false,
     "input": [
      "# First implement the naive softmax loss function with nested loops.\n",
      "# Open the file cs231n/classifiers/softmax.py and implement the\n",
      "# softmax_loss_naive function.\n",
      "\n",
      "from cs231n.classifiers.softmax import softmax_loss_naive\n",
      "import time"
     ],
     "language": "python",
     "metadata": {},
     "outputs": [],
     "prompt_number": 3
    },
    {
     "cell_type": "code",
     "collapsed": false,
     "input": [
      "# Generate a random softmax weight matrix and use it to compute the loss.\n",
      "W = np.random.randn(10, 3073) * 0.0001\n",
      "loss, grad = softmax_loss_naive(W, X_train, y_train, 0.0)\n",
      "\n",
      "# As a rough sanity check, our loss should be something close to -log(0.1).\n",
      "print 'loss: %f' % loss\n",
      "print 'sanity check: %f' % (-np.log(0.1))"
     ],
     "language": "python",
     "metadata": {},
     "outputs": [
      {
       "output_type": "stream",
       "stream": "stdout",
       "text": [
        "loss: 2.332748\n",
        "sanity check: 2.302585\n"
       ]
      }
     ],
     "prompt_number": 5
    },
    {
     "cell_type": "markdown",
     "metadata": {},
     "source": [
      "## Inline Question 1:\n",
      "Why do we expect our loss to be close to -log(0.1)? Explain briefly.**\n",
      "\n",
      "**Your answer:** \n",
      "The loss function is -log(softmax), and the softmax takes a vector of real values and squashes it into a vector of numbers between 0 and 1 that sum to 1. So with 10 possible classes, and a random weight matrix, the vector of numbers spit out by the softmax function should average to 1/10 or 0.1.\n"
     ]
    },
    {
     "cell_type": "code",
     "collapsed": false,
     "input": [
      "# Complete the implementation of softmax_loss_naive and implement a (naive)\n",
      "# version of the gradient that uses nested loops.\n",
      "loss, grad = softmax_loss_naive(W, X_train, y_train, 0.0)\n",
      "\n",
      "# As we did for the SVM, use numeric gradient checking as a debugging tool.\n",
      "# The numeric gradient should be close to the analytic gradient.\n",
      "from cs231n.gradient_check import grad_check_sparse\n",
      "f = lambda w: softmax_loss_naive(w, X_train, y_train, 0.0)[0]\n",
      "grad_numerical = grad_check_sparse(f, W, grad, 10)"
     ],
     "language": "python",
     "metadata": {},
     "outputs": [
      {
       "output_type": "stream",
       "stream": "stdout",
       "text": [
        "numerical: -0.565859 analytic: -0.565859, relative error: 2.642570e-08\n",
        "numerical: 0.973571 analytic: 0.973571, relative error: 9.467209e-09"
       ]
      },
      {
       "output_type": "stream",
       "stream": "stdout",
       "text": [
        "\n",
        "numerical: 1.042580 analytic: 1.042580, relative error: 4.679892e-08"
       ]
      },
      {
       "output_type": "stream",
       "stream": "stdout",
       "text": [
        "\n",
        "numerical: 0.845818 analytic: 0.845818, relative error: 1.287183e-08"
       ]
      },
      {
       "output_type": "stream",
       "stream": "stdout",
       "text": [
        "\n",
        "numerical: 1.196703 analytic: 1.196703, relative error: 3.902325e-08"
       ]
      },
      {
       "output_type": "stream",
       "stream": "stdout",
       "text": [
        "\n",
        "numerical: -1.362411 analytic: -1.362411, relative error: 1.475448e-08"
       ]
      },
      {
       "output_type": "stream",
       "stream": "stdout",
       "text": [
        "\n",
        "numerical: 0.167847 analytic: 0.167847, relative error: 1.550349e-07"
       ]
      },
      {
       "output_type": "stream",
       "stream": "stdout",
       "text": [
        "\n",
        "numerical: 0.027238 analytic: 0.027238, relative error: 2.686722e-06"
       ]
      },
      {
       "output_type": "stream",
       "stream": "stdout",
       "text": [
        "\n",
        "numerical: -1.060187 analytic: -1.060187, relative error: 1.905952e-08"
       ]
      },
      {
       "output_type": "stream",
       "stream": "stdout",
       "text": [
        "\n",
        "numerical: -2.201211 analytic: -2.201211, relative error: 1.568993e-08"
       ]
      },
      {
       "output_type": "stream",
       "stream": "stdout",
       "text": [
        "\n"
       ]
      }
     ],
     "prompt_number": 6
    },
    {
     "cell_type": "code",
     "collapsed": false,
     "input": [
      "# Now that we have a naive implementation of the softmax loss function and its gradient,\n",
      "# implement a vectorized version in softmax_loss_vectorized.\n",
      "# The two versions should compute the same results, but the vectorized version should be\n",
      "# much faster.\n",
      "tic = time.time()\n",
      "loss_naive, grad_naive = softmax_loss_naive(W, X_train, y_train, 0.00001)\n",
      "toc = time.time()\n",
      "print 'naive loss: %e computed in %fs' % (loss_naive, toc - tic)\n",
      "\n",
      "from cs231n.classifiers.softmax import softmax_loss_vectorized\n",
      "tic = time.time()\n",
      "loss_vectorized, grad_vectorized = softmax_loss_vectorized(W, X_train, y_train, 0.00001)\n",
      "toc = time.time()\n",
      "print 'vectorized loss: %e computed in %fs' % (loss_vectorized, toc - tic)\n",
      "\n",
      "# As we did for the SVM, we use the Frobenius norm to compare the two versions\n",
      "# of the gradient.\n",
      "grad_difference = np.linalg.norm(grad_naive - grad_vectorized, ord='fro')\n",
      "print 'Loss difference: %f' % np.abs(loss_naive - loss_vectorized)\n",
      "print 'Gradient difference: %f' % grad_difference"
     ],
     "language": "python",
     "metadata": {},
     "outputs": [
      {
       "output_type": "stream",
       "stream": "stdout",
       "text": [
        "naive loss: 2.332748e+00 computed in 9.491052s\n",
        "vectorized loss: 2.332748e+00 computed in 1.497705s"
       ]
      },
      {
       "output_type": "stream",
       "stream": "stdout",
       "text": [
        "\n",
        "Loss difference: 0.000000\n",
        "Gradient difference: 31.365040\n"
       ]
      }
     ],
     "prompt_number": 7
    },
    {
     "cell_type": "code",
     "collapsed": false,
     "input": [
      "# Use the validation set to tune hyperparameters (regularization strength and\n",
      "# learning rate). You should experiment with different ranges for the learning\n",
      "# rates and regularization strengths; if you are careful you should be able to\n",
      "# get a classification accuracy of over 0.35 on the validation set.\n",
      "from cs231n.classifiers import Softmax\n",
      "results = {}\n",
      "best_val = -1\n",
      "best_softmax = None\n",
      "learning_rates = np.random.uniform(1e-9, 1e-7, 10)\n",
      "regularization_strengths = np.random.uniform(1e5, 1e6, 5)\n",
      "num_iters = 1500\n",
      "\n",
      "################################################################################\n",
      "# TODO:                                                                        #\n",
      "# Use the validation set to set the learning rate and regularization strength. #\n",
      "# This should be identical to the validation that you did for the SVM; save    #\n",
      "# the best trained softmax classifer in best_softmax.                          #\n",
      "################################################################################\n",
      "for learn_rate in learning_rates:\n",
      "    for reg in regularization_strengths:\n",
      "        sfm = Softmax()\n",
      "        loss_hist = sfm.train(X_train, y_train, learn_rate, reg, num_iters)\n",
      "        y_train_pred = sfm.predict(X_train)\n",
      "        train_acc = np.mean(y_train == y_train_pred)\n",
      "        y_val_pred = sfm.predict(X_val)\n",
      "        val_acc = np.mean(y_val == y_val_pred)\n",
      "        \n",
      "        results[(learn_rate,reg)] = (train_acc,val_acc)\n",
      "        if val_acc > best_val:\n",
      "            best_val = val_acc\n",
      "            best_softmax = sfm\n",
      "################################################################################\n",
      "#                              END OF YOUR CODE                                #\n",
      "################################################################################\n",
      "    \n",
      "# Print out results.\n",
      "for lr, reg in sorted(results):\n",
      "    train_accuracy, val_accuracy = results[(lr, reg)]\n",
      "    print 'lr %e reg %e train accuracy: %f val accuracy: %f' % (\n",
      "                lr, reg, train_accuracy, val_accuracy)\n",
      "    \n",
      "print 'best validation accuracy achieved during cross-validation: %f' % best_val"
     ],
     "language": "python",
     "metadata": {},
     "outputs": [
      {
       "output_type": "stream",
       "stream": "stdout",
       "text": [
        "lr 1.296330e-08 reg 1.949659e+05 train accuracy: 0.279592 val accuracy: 0.290000\n",
        "lr 1.296330e-08 reg 5.246430e+05 train accuracy: 0.265041 val accuracy: 0.276000\n",
        "lr 1.296330e-08 reg 5.835245e+05 train accuracy: 0.265082 val accuracy: 0.279000\n",
        "lr 1.296330e-08 reg 6.683039e+05 train accuracy: 0.259388 val accuracy: 0.273000\n",
        "lr 1.296330e-08 reg 8.292344e+05 train accuracy: 0.257735 val accuracy: 0.270000\n",
        "lr 1.695765e-08 reg 1.949659e+05 train accuracy: 0.289653 val accuracy: 0.300000\n",
        "lr 1.695765e-08 reg 5.246430e+05 train accuracy: 0.269122 val accuracy: 0.282000\n",
        "lr 1.695765e-08 reg 5.835245e+05 train accuracy: 0.263653 val accuracy: 0.278000\n",
        "lr 1.695765e-08 reg 6.683039e+05 train accuracy: 0.258490 val accuracy: 0.268000\n",
        "lr 1.695765e-08 reg 8.292344e+05 train accuracy: 0.262327 val accuracy: 0.272000\n",
        "lr 1.907241e-08 reg 1.949659e+05 train accuracy: 0.282816 val accuracy: 0.296000\n",
        "lr 1.907241e-08 reg 5.246430e+05 train accuracy: 0.263000 val accuracy: 0.272000\n",
        "lr 1.907241e-08 reg 5.835245e+05 train accuracy: 0.260429 val accuracy: 0.273000\n",
        "lr 1.907241e-08 reg 6.683039e+05 train accuracy: 0.262551 val accuracy: 0.275000\n",
        "lr 1.907241e-08 reg 8.292344e+05 train accuracy: 0.255143 val accuracy: 0.268000\n",
        "lr 2.775652e-08 reg 1.949659e+05 train accuracy: 0.286714 val accuracy: 0.300000\n",
        "lr 2.775652e-08 reg 5.246430e+05 train accuracy: 0.273204 val accuracy: 0.280000\n",
        "lr 2.775652e-08 reg 5.835245e+05 train accuracy: 0.259143 val accuracy: 0.274000\n",
        "lr 2.775652e-08 reg 6.683039e+05 train accuracy: 0.261776 val accuracy: 0.273000\n",
        "lr 2.775652e-08 reg 8.292344e+05 train accuracy: 0.261000 val accuracy: 0.275000\n",
        "lr 5.783622e-08 reg 1.949659e+05 train accuracy: 0.292102 val accuracy: 0.290000\n",
        "lr 5.783622e-08 reg 5.246430e+05 train accuracy: 0.260694 val accuracy: 0.280000\n",
        "lr 5.783622e-08 reg 5.835245e+05 train accuracy: 0.276571 val accuracy: 0.291000\n",
        "lr 5.783622e-08 reg 6.683039e+05 train accuracy: 0.273633 val accuracy: 0.292000\n",
        "lr 5.783622e-08 reg 8.292344e+05 train accuracy: 0.258755 val accuracy: 0.274000\n",
        "lr 6.240444e-08 reg 1.949659e+05 train accuracy: 0.280816 val accuracy: 0.291000\n",
        "lr 6.240444e-08 reg 5.246430e+05 train accuracy: 0.260959 val accuracy: 0.272000\n",
        "lr 6.240444e-08 reg 5.835245e+05 train accuracy: 0.257367 val accuracy: 0.274000\n",
        "lr 6.240444e-08 reg 6.683039e+05 train accuracy: 0.259510 val accuracy: 0.272000\n",
        "lr 6.240444e-08 reg 8.292344e+05 train accuracy: 0.247490 val accuracy: 0.268000\n",
        "lr 7.071259e-08 reg 1.949659e+05 train accuracy: 0.285347 val accuracy: 0.299000\n",
        "lr 7.071259e-08 reg 5.246430e+05 train accuracy: 0.269449 val accuracy: 0.280000\n",
        "lr 7.071259e-08 reg 5.835245e+05 train accuracy: 0.261408 val accuracy: 0.275000\n",
        "lr 7.071259e-08 reg 6.683039e+05 train accuracy: 0.254653 val accuracy: 0.268000\n",
        "lr 7.071259e-08 reg 8.292344e+05 train accuracy: 0.256306 val accuracy: 0.280000\n",
        "lr 7.968785e-08 reg 1.949659e+05 train accuracy: 0.282878 val accuracy: 0.292000\n",
        "lr 7.968785e-08 reg 5.246430e+05 train accuracy: 0.261041 val accuracy: 0.271000\n",
        "lr 7.968785e-08 reg 5.835245e+05 train accuracy: 0.270204 val accuracy: 0.280000\n",
        "lr 7.968785e-08 reg 6.683039e+05 train accuracy: 0.253510 val accuracy: 0.269000\n",
        "lr 7.968785e-08 reg 8.292344e+05 train accuracy: 0.269714 val accuracy: 0.282000\n",
        "lr 8.456794e-08 reg 1.949659e+05 train accuracy: 0.280837 val accuracy: 0.295000\n",
        "lr 8.456794e-08 reg 5.246430e+05 train accuracy: 0.263306 val accuracy: 0.267000\n",
        "lr 8.456794e-08 reg 5.835245e+05 train accuracy: 0.260755 val accuracy: 0.275000\n",
        "lr 8.456794e-08 reg 6.683039e+05 train accuracy: 0.268204 val accuracy: 0.278000\n",
        "lr 8.456794e-08 reg 8.292344e+05 train accuracy: 0.249857 val accuracy: 0.261000\n",
        "lr 8.626161e-08 reg 1.949659e+05 train accuracy: 0.288878 val accuracy: 0.298000\n",
        "lr 8.626161e-08 reg 5.246430e+05 train accuracy: 0.255143 val accuracy: 0.272000\n",
        "lr 8.626161e-08 reg 5.835245e+05 train accuracy: 0.252510 val accuracy: 0.268000\n",
        "lr 8.626161e-08 reg 6.683039e+05 train accuracy: 0.264224 val accuracy: 0.275000\n",
        "lr 8.626161e-08 reg 8.292344e+05 train accuracy: 0.250735 val accuracy: 0.254000\n",
        "best validation accuracy achieved during cross-validation: 0.300000\n"
       ]
      }
     ],
     "prompt_number": 6
    },
    {
     "cell_type": "code",
     "collapsed": false,
     "input": [
      "# evaluate on test set\n",
      "# Evaluate the best svm on test set\n",
      "y_test_pred = best_softmax.predict(X_test)\n",
      "test_accuracy = np.mean(y_test == y_test_pred)\n",
      "print 'softmax on raw pixels final test set accuracy: %f' % (test_accuracy, )"
     ],
     "language": "python",
     "metadata": {},
     "outputs": [
      {
       "output_type": "stream",
       "stream": "stdout",
       "text": [
        "softmax on raw pixels final test set accuracy: 0.304000\n"
       ]
      }
     ],
     "prompt_number": 7
    },
    {
     "cell_type": "code",
     "collapsed": false,
     "input": [
      "# Visualize the learned weights for each class\n",
      "w = best_softmax.W[:,:-1] # strip out the bias\n",
      "w = w.reshape(10, 32, 32, 3)\n",
      "\n",
      "w_min, w_max = np.min(w), np.max(w)\n",
      "\n",
      "classes = ['plane', 'car', 'bird', 'cat', 'deer', 'dog', 'frog', 'horse', 'ship', 'truck']\n",
      "for i in xrange(10):\n",
      "  plt.subplot(2, 5, i + 1)\n",
      "  \n",
      "  # Rescale the weights to be between 0 and 255\n",
      "  wimg = 255.0 * (w[i].squeeze() - w_min) / (w_max - w_min)\n",
      "  plt.imshow(wimg.astype('uint8'))\n",
      "  plt.axis('off')\n",
      "  plt.title(classes[i])"
     ],
     "language": "python",
     "metadata": {},
     "outputs": [
      {
       "metadata": {},
       "output_type": "display_data",
       "png": "[encoded data removed]",
       "text": [
        "<matplotlib.figure.Figure at 0x7f1b5aa90c90>"
       ]
      }
     ],
     "prompt_number": 8
    },
    {
     "cell_type": "code",
     "collapsed": false,
     "input": [],
     "language": "python",
     "metadata": {},
     "outputs": []
    }
   ],
   "metadata": {}
  }
 ]
}