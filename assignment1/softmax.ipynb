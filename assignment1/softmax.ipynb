{
 "metadata": {
  "name": "",
  "signature": "sha256:ee210f53ee4e2895c4b8540bda533c491280631a8bde5982f26a86fb07ce21a9"
 },
 "nbformat": 3,
 "nbformat_minor": 0,
 "worksheets": [
  {
   "cells": [
    {
     "cell_type": "markdown",
     "metadata": {},
     "source": [
      "# Softmax exercise\n",
      "\n",
      "*Complete and hand in this completed worksheet (including its outputs and any supporting code outside of the worksheet) with your assignment submission. For more details see the [assignments page](http://vision.stanford.edu/teaching/cs231n/assignments.html) on the course website.*\n",
      "\n",
      "This exercise is analogous to the SVM exercise. You will:\n",
      "\n",
      "- implement a fully-vectorized **loss function** for the Softmax classifier\n",
      "- implement the fully-vectorized expression for its **analytic gradient**\n",
      "- **check your implementation** with numerical gradient\n",
      "- use a validation set to **tune the learning rate and regularization** strength\n",
      "- **optimize** the loss function with **SGD**\n",
      "- **visualize** the final learned weights\n"
     ]
    },
    {
     "cell_type": "code",
     "collapsed": false,
     "input": [
      "import random\n",
      "import numpy as np\n",
      "from cs231n.data_utils import load_CIFAR10\n",
      "import matplotlib.pyplot as plt\n",
      "%matplotlib inline\n",
      "plt.rcParams['figure.figsize'] = (10.0, 8.0) # set default size of plots\n",
      "plt.rcParams['image.interpolation'] = 'nearest'\n",
      "plt.rcParams['image.cmap'] = 'gray'\n",
      "\n",
      "# for auto-reloading extenrnal modules\n",
      "# see http://stackoverflow.com/questions/1907993/autoreload-of-modules-in-ipython\n",
      "%load_ext autoreload\n",
      "%autoreload 2"
     ],
     "language": "python",
     "metadata": {},
     "outputs": [],
     "prompt_number": 1
    },
    {
     "cell_type": "code",
     "collapsed": false,
     "input": [
      "def get_CIFAR10_data(num_training=49000, num_validation=1000, num_test=1000):\n",
      "  \"\"\"\n",
      "  Load the CIFAR-10 dataset from disk and perform preprocessing to prepare\n",
      "  it for the linear classifier. These are the same steps as we used for the\n",
      "  SVM, but condensed to a single function.  \n",
      "  \"\"\"\n",
      "  # Load the raw CIFAR-10 data\n",
      "  cifar10_dir = 'cs231n/datasets/cifar-10-batches-py'\n",
      "  X_train, y_train, X_test, y_test = load_CIFAR10(cifar10_dir)\n",
      "  \n",
      "  # subsample the data\n",
      "  mask = range(num_training, num_training + num_validation)\n",
      "  X_val = X_train[mask]\n",
      "  y_val = y_train[mask]\n",
      "  mask = range(num_training)\n",
      "  X_train = X_train[mask]\n",
      "  y_train = y_train[mask]\n",
      "  mask = range(num_test)\n",
      "  X_test = X_test[mask]\n",
      "  y_test = y_test[mask]\n",
      "  \n",
      "  # Preprocessing: reshape the image data into rows\n",
      "  X_train = np.reshape(X_train, (X_train.shape[0], -1))\n",
      "  X_val = np.reshape(X_val, (X_val.shape[0], -1))\n",
      "  X_test = np.reshape(X_test, (X_test.shape[0], -1))\n",
      "  \n",
      "  # Normalize the data: subtract the mean image\n",
      "  mean_image = np.mean(X_train, axis = 0)\n",
      "  X_train -= mean_image\n",
      "  X_val -= mean_image\n",
      "  X_test -= mean_image\n",
      "  \n",
      "  # add bias dimension and transform into columns\n",
      "  X_train = np.hstack([X_train, np.ones((X_train.shape[0], 1))]).T\n",
      "  X_val = np.hstack([X_val, np.ones((X_val.shape[0], 1))]).T\n",
      "  X_test = np.hstack([X_test, np.ones((X_test.shape[0], 1))]).T\n",
      "  \n",
      "  return X_train, y_train, X_val, y_val, X_test, y_test\n",
      "\n",
      "\n",
      "# Invoke the above function to get our data.\n",
      "X_train, y_train, X_val, y_val, X_test, y_test = get_CIFAR10_data()\n",
      "print 'Train data shape: ', X_train.shape\n",
      "print 'Train labels shape: ', y_train.shape\n",
      "print 'Validation data shape: ', X_val.shape\n",
      "print 'Validation labels shape: ', y_val.shape\n",
      "print 'Test data shape: ', X_test.shape\n",
      "print 'Test labels shape: ', y_test.shape"
     ],
     "language": "python",
     "metadata": {},
     "outputs": [
      {
       "output_type": "stream",
       "stream": "stdout",
       "text": [
        "Train data shape:  (3073, 49000)\n",
        "Train labels shape:  (49000,)\n",
        "Validation data shape:  (3073, 1000)\n",
        "Validation labels shape:  (1000,)\n",
        "Test data shape:  (3073, 1000)\n",
        "Test labels shape:  (1000,)\n"
       ]
      }
     ],
     "prompt_number": 2
    },
    {
     "cell_type": "markdown",
     "metadata": {},
     "source": [
      "## Softmax Classifier\n",
      "\n",
      "Your code for this section will all be written inside **cs231n/classifiers/softmax.py**. \n"
     ]
    },
    {
     "cell_type": "code",
     "collapsed": false,
     "input": [
      "# First implement the naive softmax loss function with nested loops.\n",
      "# Open the file cs231n/classifiers/softmax.py and implement the\n",
      "# softmax_loss_naive function.\n",
      "\n",
      "from cs231n.classifiers.softmax import softmax_loss_naive\n",
      "import time"
     ],
     "language": "python",
     "metadata": {},
     "outputs": [],
     "prompt_number": 4
    },
    {
     "cell_type": "code",
     "collapsed": false,
     "input": [
      "# Generate a random softmax weight matrix and use it to compute the loss.\n",
      "W = np.random.randn(10, 3073) * 0.0001\n",
      "loss, grad = softmax_loss_naive(W, X_train, y_train, 0.0)\n",
      "\n",
      "# As a rough sanity check, our loss should be something close to -log(0.1).\n",
      "print 'loss: %f' % loss\n",
      "print 'sanity check: %f' % (-np.log(0.1))"
     ],
     "language": "python",
     "metadata": {},
     "outputs": [
      {
       "output_type": "stream",
       "stream": "stdout",
       "text": [
        "loss: 2.332748\n",
        "sanity check: 2.302585\n"
       ]
      }
     ],
     "prompt_number": 5
    },
    {
     "cell_type": "markdown",
     "metadata": {},
     "source": [
      "## Inline Question 1:\n",
      "Why do we expect our loss to be close to -log(0.1)? Explain briefly.**\n",
      "\n",
      "**Your answer:** *Fill this in*\n"
     ]
    },
    {
     "cell_type": "code",
     "collapsed": false,
     "input": [
      "# Complete the implementation of softmax_loss_naive and implement a (naive)\n",
      "# version of the gradient that uses nested loops.\n",
      "loss, grad = softmax_loss_naive(W, X_train, y_train, 0.0)\n",
      "\n",
      "# As we did for the SVM, use numeric gradient checking as a debugging tool.\n",
      "# The numeric gradient should be close to the analytic gradient.\n",
      "from cs231n.gradient_check import grad_check_sparse\n",
      "f = lambda w: softmax_loss_naive(w, X_train, y_train, 0.0)[0]\n",
      "grad_numerical = grad_check_sparse(f, W, grad, 10)"
     ],
     "language": "python",
     "metadata": {},
     "outputs": [
      {
       "output_type": "stream",
       "stream": "stdout",
       "text": [
        "numerical: -0.565859 analytic: -0.565859, relative error: 2.642570e-08\n",
        "numerical: 0.973571 analytic: 0.973571, relative error: 9.467209e-09"
       ]
      },
      {
       "output_type": "stream",
       "stream": "stdout",
       "text": [
        "\n",
        "numerical: 1.042580 analytic: 1.042580, relative error: 4.679892e-08"
       ]
      },
      {
       "output_type": "stream",
       "stream": "stdout",
       "text": [
        "\n",
        "numerical: 0.845818 analytic: 0.845818, relative error: 1.287183e-08"
       ]
      },
      {
       "output_type": "stream",
       "stream": "stdout",
       "text": [
        "\n",
        "numerical: 1.196703 analytic: 1.196703, relative error: 3.902325e-08"
       ]
      },
      {
       "output_type": "stream",
       "stream": "stdout",
       "text": [
        "\n",
        "numerical: -1.362411 analytic: -1.362411, relative error: 1.475448e-08"
       ]
      },
      {
       "output_type": "stream",
       "stream": "stdout",
       "text": [
        "\n",
        "numerical: 0.167847 analytic: 0.167847, relative error: 1.550349e-07"
       ]
      },
      {
       "output_type": "stream",
       "stream": "stdout",
       "text": [
        "\n",
        "numerical: 0.027238 analytic: 0.027238, relative error: 2.686722e-06"
       ]
      },
      {
       "output_type": "stream",
       "stream": "stdout",
       "text": [
        "\n",
        "numerical: -1.060187 analytic: -1.060187, relative error: 1.905952e-08"
       ]
      },
      {
       "output_type": "stream",
       "stream": "stdout",
       "text": [
        "\n",
        "numerical: -2.201211 analytic: -2.201211, relative error: 1.568993e-08"
       ]
      },
      {
       "output_type": "stream",
       "stream": "stdout",
       "text": [
        "\n"
       ]
      }
     ],
     "prompt_number": 6
    },
    {
     "cell_type": "code",
     "collapsed": false,
     "input": [
      "# Now that we have a naive implementation of the softmax loss function and its gradient,\n",
      "# implement a vectorized version in softmax_loss_vectorized.\n",
      "# The two versions should compute the same results, but the vectorized version should be\n",
      "# much faster.\n",
      "tic = time.time()\n",
      "loss_naive, grad_naive = softmax_loss_naive(W, X_train, y_train, 0.00001)\n",
      "toc = time.time()\n",
      "print 'naive loss: %e computed in %fs' % (loss_naive, toc - tic)\n",
      "\n",
      "from cs231n.classifiers.softmax import softmax_loss_vectorized\n",
      "tic = time.time()\n",
      "loss_vectorized, grad_vectorized = softmax_loss_vectorized(W, X_train, y_train, 0.00001)\n",
      "toc = time.time()\n",
      "print 'vectorized loss: %e computed in %fs' % (loss_vectorized, toc - tic)\n",
      "\n",
      "# As we did for the SVM, we use the Frobenius norm to compare the two versions\n",
      "# of the gradient.\n",
      "grad_difference = np.linalg.norm(grad_naive - grad_vectorized, ord='fro')\n",
      "print 'Loss difference: %f' % np.abs(loss_naive - loss_vectorized)\n",
      "print 'Gradient difference: %f' % grad_difference"
     ],
     "language": "python",
     "metadata": {},
     "outputs": [
      {
       "output_type": "stream",
       "stream": "stdout",
       "text": [
        "naive loss: 2.332748e+00 computed in 9.491052s\n",
        "vectorized loss: 2.332748e+00 computed in 1.497705s"
       ]
      },
      {
       "output_type": "stream",
       "stream": "stdout",
       "text": [
        "\n",
        "Loss difference: 0.000000\n",
        "Gradient difference: 31.365040\n"
       ]
      }
     ],
     "prompt_number": 7
    },
    {
     "cell_type": "code",
     "collapsed": false,
     "input": [
      "# Use the validation set to tune hyperparameters (regularization strength and\n",
      "# learning rate). You should experiment with different ranges for the learning\n",
      "# rates and regularization strengths; if you are careful you should be able to\n",
      "# get a classification accuracy of over 0.35 on the validation set.\n",
      "from cs231n.classifiers import Softmax\n",
      "results = {}\n",
      "best_val = -1\n",
      "best_softmax = None\n",
      "learning_rates = np.random.uniform(1e-7, 5e-7, 10)\n",
      "regularization_strengths = np.random.uniform(5e4, 1e8, 10)\n",
      "num_iters = 1500\n",
      "\n",
      "################################################################################\n",
      "# TODO:                                                                        #\n",
      "# Use the validation set to set the learning rate and regularization strength. #\n",
      "# This should be identical to the validation that you did for the SVM; save    #\n",
      "# the best trained softmax classifer in best_softmax.                          #\n",
      "################################################################################\n",
      "for learn_rate in learning_rates:\n",
      "    for reg in regularization_strengths:\n",
      "        sfm = Softmax()\n",
      "        loss_hist = sfm.train(X_train, y_train, learn_rate, reg, num_iters)\n",
      "        y_train_pred = sfm.predict(X_train)\n",
      "        train_acc = np.mean(y_train == y_train_pred)\n",
      "        y_val_pred = sfm.predict(X_val)\n",
      "        val_acc = np.mean(y_val == y_val_pred)\n",
      "        \n",
      "        results[(learn_rate,reg)] = (train_acc,val_acc)\n",
      "        if val_acc > best_val:\n",
      "            best_val = val_acc\n",
      "            best_softmax = sfm\n",
      "################################################################################\n",
      "#                              END OF YOUR CODE                                #\n",
      "################################################################################\n",
      "    \n",
      "# Print out results.\n",
      "for lr, reg in sorted(results):\n",
      "    train_accuracy, val_accuracy = results[(lr, reg)]\n",
      "    print 'lr %e reg %e train accuracy: %f val accuracy: %f' % (\n",
      "                lr, reg, train_accuracy, val_accuracy)\n",
      "    \n",
      "print 'best validation accuracy achieved during cross-validation: %f' % best_val"
     ],
     "language": "python",
     "metadata": {},
     "outputs": [
      {
       "output_type": "stream",
       "stream": "stderr",
       "text": [
        "cs231n/classifiers/softmax.py:103: RuntimeWarning: overflow encountered in multiply\n",
        "cs231n/classifiers/softmax.py:93: RuntimeWarning: invalid value encountered in subtract\n"
       ]
      },
      {
       "output_type": "stream",
       "stream": "stdout",
       "text": [
        "lr 1.811339e-07 reg 3.433292e+06 train accuracy: 0.235653 val accuracy: 0.236000\n",
        "lr 1.811339e-07 reg 5.371621e+06 train accuracy: 0.212367 val accuracy: 0.213000\n",
        "lr 1.811339e-07 reg 9.486370e+06 train accuracy: 0.172735 val accuracy: 0.164000\n",
        "lr 1.811339e-07 reg 2.348293e+07 train accuracy: 0.100265 val accuracy: 0.087000\n",
        "lr 1.811339e-07 reg 4.053324e+07 train accuracy: 0.100265 val accuracy: 0.087000\n",
        "lr 1.811339e-07 reg 4.983760e+07 train accuracy: 0.100265 val accuracy: 0.087000\n",
        "lr 1.811339e-07 reg 5.547526e+07 train accuracy: 0.100265 val accuracy: 0.087000\n",
        "lr 1.811339e-07 reg 6.354646e+07 train accuracy: 0.100265 val accuracy: 0.087000\n",
        "lr 1.811339e-07 reg 8.243780e+07 train accuracy: 0.100265 val accuracy: 0.087000\n",
        "lr 1.811339e-07 reg 8.784926e+07 train accuracy: 0.100265 val accuracy: 0.087000\n",
        "lr 1.930687e-07 reg 3.433292e+06 train accuracy: 0.234429 val accuracy: 0.253000\n",
        "lr 1.930687e-07 reg 5.371621e+06 train accuracy: 0.196122 val accuracy: 0.205000\n",
        "lr 1.930687e-07 reg 9.486370e+06 train accuracy: 0.137796 val accuracy: 0.150000\n",
        "lr 1.930687e-07 reg 2.348293e+07 train accuracy: 0.100265 val accuracy: 0.087000\n",
        "lr 1.930687e-07 reg 4.053324e+07 train accuracy: 0.100265 val accuracy: 0.087000\n",
        "lr 1.930687e-07 reg 4.983760e+07 train accuracy: 0.100265 val accuracy: 0.087000\n",
        "lr 1.930687e-07 reg 5.547526e+07 train accuracy: 0.100265 val accuracy: 0.087000\n",
        "lr 1.930687e-07 reg 6.354646e+07 train accuracy: 0.100265 val accuracy: 0.087000\n",
        "lr 1.930687e-07 reg 8.243780e+07 train accuracy: 0.100265 val accuracy: 0.087000\n",
        "lr 1.930687e-07 reg 8.784926e+07 train accuracy: 0.100265 val accuracy: 0.087000\n",
        "lr 2.158528e-07 reg 3.433292e+06 train accuracy: 0.245939 val accuracy: 0.260000\n",
        "lr 2.158528e-07 reg 5.371621e+06 train accuracy: 0.216265 val accuracy: 0.229000\n",
        "lr 2.158528e-07 reg 9.486370e+06 train accuracy: 0.113939 val accuracy: 0.104000\n",
        "lr 2.158528e-07 reg 2.348293e+07 train accuracy: 0.100265 val accuracy: 0.087000\n",
        "lr 2.158528e-07 reg 4.053324e+07 train accuracy: 0.100265 val accuracy: 0.087000\n",
        "lr 2.158528e-07 reg 4.983760e+07 train accuracy: 0.100265 val accuracy: 0.087000\n",
        "lr 2.158528e-07 reg 5.547526e+07 train accuracy: 0.100265 val accuracy: 0.087000\n",
        "lr 2.158528e-07 reg 6.354646e+07 train accuracy: 0.100265 val accuracy: 0.087000\n",
        "lr 2.158528e-07 reg 8.243780e+07 train accuracy: 0.100265 val accuracy: 0.087000\n",
        "lr 2.158528e-07 reg 8.784926e+07 train accuracy: 0.100265 val accuracy: 0.087000\n",
        "lr 2.305669e-07 reg 3.433292e+06 train accuracy: 0.231163 val accuracy: 0.254000\n",
        "lr 2.305669e-07 reg 5.371621e+06 train accuracy: 0.204837 val accuracy: 0.209000\n",
        "lr 2.305669e-07 reg 9.486370e+06 train accuracy: 0.125184 val accuracy: 0.131000\n",
        "lr 2.305669e-07 reg 2.348293e+07 train accuracy: 0.100265 val accuracy: 0.087000\n",
        "lr 2.305669e-07 reg 4.053324e+07 train accuracy: 0.100265 val accuracy: 0.087000\n",
        "lr 2.305669e-07 reg 4.983760e+07 train accuracy: 0.100265 val accuracy: 0.087000\n",
        "lr 2.305669e-07 reg 5.547526e+07 train accuracy: 0.100265 val accuracy: 0.087000\n",
        "lr 2.305669e-07 reg 6.354646e+07 train accuracy: 0.100265 val accuracy: 0.087000\n",
        "lr 2.305669e-07 reg 8.243780e+07 train accuracy: 0.100265 val accuracy: 0.087000\n",
        "lr 2.305669e-07 reg 8.784926e+07 train accuracy: 0.100265 val accuracy: 0.087000\n",
        "lr 2.828226e-07 reg 3.433292e+06 train accuracy: 0.214224 val accuracy: 0.219000\n",
        "lr 2.828226e-07 reg 5.371621e+06 train accuracy: 0.188796 val accuracy: 0.193000\n",
        "lr 2.828226e-07 reg 9.486370e+06 train accuracy: 0.100265 val accuracy: 0.087000\n",
        "lr 2.828226e-07 reg 2.348293e+07 train accuracy: 0.100265 val accuracy: 0.087000\n",
        "lr 2.828226e-07 reg 4.053324e+07 train accuracy: 0.100265 val accuracy: 0.087000\n",
        "lr 2.828226e-07 reg 4.983760e+07 train accuracy: 0.100265 val accuracy: 0.087000\n",
        "lr 2.828226e-07 reg 5.547526e+07 train accuracy: 0.100265 val accuracy: 0.087000\n",
        "lr 2.828226e-07 reg 6.354646e+07 train accuracy: 0.100265 val accuracy: 0.087000\n",
        "lr 2.828226e-07 reg 8.243780e+07 train accuracy: 0.100265 val accuracy: 0.087000\n",
        "lr 2.828226e-07 reg 8.784926e+07 train accuracy: 0.100265 val accuracy: 0.087000\n",
        "lr 3.085550e-07 reg 3.433292e+06 train accuracy: 0.202388 val accuracy: 0.218000\n",
        "lr 3.085550e-07 reg 5.371621e+06 train accuracy: 0.160286 val accuracy: 0.181000\n",
        "lr 3.085550e-07 reg 9.486370e+06 train accuracy: 0.100265 val accuracy: 0.087000\n",
        "lr 3.085550e-07 reg 2.348293e+07 train accuracy: 0.100265 val accuracy: 0.087000\n",
        "lr 3.085550e-07 reg 4.053324e+07 train accuracy: 0.100265 val accuracy: 0.087000\n",
        "lr 3.085550e-07 reg 4.983760e+07 train accuracy: 0.100265 val accuracy: 0.087000\n",
        "lr 3.085550e-07 reg 5.547526e+07 train accuracy: 0.100265 val accuracy: 0.087000\n",
        "lr 3.085550e-07 reg 6.354646e+07 train accuracy: 0.100265 val accuracy: 0.087000\n",
        "lr 3.085550e-07 reg 8.243780e+07 train accuracy: 0.100265 val accuracy: 0.087000\n",
        "lr 3.085550e-07 reg 8.784926e+07 train accuracy: 0.100265 val accuracy: 0.087000\n",
        "lr 3.389827e-07 reg 3.433292e+06 train accuracy: 0.194592 val accuracy: 0.188000\n",
        "lr 3.389827e-07 reg 5.371621e+06 train accuracy: 0.144878 val accuracy: 0.153000\n",
        "lr 3.389827e-07 reg 9.486370e+06 train accuracy: 0.100265 val accuracy: 0.087000\n",
        "lr 3.389827e-07 reg 2.348293e+07 train accuracy: 0.100265 val accuracy: 0.087000\n",
        "lr 3.389827e-07 reg 4.053324e+07 train accuracy: 0.100265 val accuracy: 0.087000\n",
        "lr 3.389827e-07 reg 4.983760e+07 train accuracy: 0.100265 val accuracy: 0.087000\n",
        "lr 3.389827e-07 reg 5.547526e+07 train accuracy: 0.100265 val accuracy: 0.087000\n",
        "lr 3.389827e-07 reg 6.354646e+07 train accuracy: 0.100265 val accuracy: 0.087000\n",
        "lr 3.389827e-07 reg 8.243780e+07 train accuracy: 0.100265 val accuracy: 0.087000\n",
        "lr 3.389827e-07 reg 8.784926e+07 train accuracy: 0.100265 val accuracy: 0.087000\n",
        "lr 3.490721e-07 reg 3.433292e+06 train accuracy: 0.213306 val accuracy: 0.215000\n",
        "lr 3.490721e-07 reg 5.371621e+06 train accuracy: 0.149633 val accuracy: 0.142000\n",
        "lr 3.490721e-07 reg 9.486370e+06 train accuracy: 0.100265 val accuracy: 0.087000\n",
        "lr 3.490721e-07 reg 2.348293e+07 train accuracy: 0.100265 val accuracy: 0.087000\n",
        "lr 3.490721e-07 reg 4.053324e+07 train accuracy: 0.100265 val accuracy: 0.087000\n",
        "lr 3.490721e-07 reg 4.983760e+07 train accuracy: 0.100265 val accuracy: 0.087000\n",
        "lr 3.490721e-07 reg 5.547526e+07 train accuracy: 0.100265 val accuracy: 0.087000\n",
        "lr 3.490721e-07 reg 6.354646e+07 train accuracy: 0.100265 val accuracy: 0.087000\n",
        "lr 3.490721e-07 reg 8.243780e+07 train accuracy: 0.100265 val accuracy: 0.087000\n",
        "lr 3.490721e-07 reg 8.784926e+07 train accuracy: 0.100265 val accuracy: 0.087000\n",
        "lr 3.617782e-07 reg 3.433292e+06 train accuracy: 0.220490 val accuracy: 0.228000\n",
        "lr 3.617782e-07 reg 5.371621e+06 train accuracy: 0.108000 val accuracy: 0.114000\n",
        "lr 3.617782e-07 reg 9.486370e+06 train accuracy: 0.100265 val accuracy: 0.087000\n",
        "lr 3.617782e-07 reg 2.348293e+07 train accuracy: 0.100265 val accuracy: 0.087000\n",
        "lr 3.617782e-07 reg 4.053324e+07 train accuracy: 0.100265 val accuracy: 0.087000\n",
        "lr 3.617782e-07 reg 4.983760e+07 train accuracy: 0.100265 val accuracy: 0.087000\n",
        "lr 3.617782e-07 reg 5.547526e+07 train accuracy: 0.100265 val accuracy: 0.087000\n",
        "lr 3.617782e-07 reg 6.354646e+07 train accuracy: 0.100265 val accuracy: 0.087000\n",
        "lr 3.617782e-07 reg 8.243780e+07 train accuracy: 0.100265 val accuracy: 0.087000\n",
        "lr 3.617782e-07 reg 8.784926e+07 train accuracy: 0.100265 val accuracy: 0.087000\n",
        "lr 4.734837e-07 reg 3.433292e+06 train accuracy: 0.167939 val accuracy: 0.167000\n",
        "lr 4.734837e-07 reg 5.371621e+06 train accuracy: 0.096163 val accuracy: 0.099000\n",
        "lr 4.734837e-07 reg 9.486370e+06 train accuracy: 0.100265 val accuracy: 0.087000\n",
        "lr 4.734837e-07 reg 2.348293e+07 train accuracy: 0.100265 val accuracy: 0.087000\n",
        "lr 4.734837e-07 reg 4.053324e+07 train accuracy: 0.100265 val accuracy: 0.087000\n",
        "lr 4.734837e-07 reg 4.983760e+07 train accuracy: 0.100265 val accuracy: 0.087000\n",
        "lr 4.734837e-07 reg 5.547526e+07 train accuracy: 0.100265 val accuracy: 0.087000\n",
        "lr 4.734837e-07 reg 6.354646e+07 train accuracy: 0.100265 val accuracy: 0.087000\n",
        "lr 4.734837e-07 reg 8.243780e+07 train accuracy: 0.100265 val accuracy: 0.087000\n",
        "lr 4.734837e-07 reg 8.784926e+07 train accuracy: 0.100265 val accuracy: 0.087000\n",
        "best validation accuracy achieved during cross-validation: 0.260000\n"
       ]
      }
     ],
     "prompt_number": 9
    },
    {
     "cell_type": "code",
     "collapsed": false,
     "input": [
      "# evaluate on test set\n",
      "# Evaluate the best svm on test set\n",
      "y_test_pred = best_softmax.predict(X_test)\n",
      "test_accuracy = np.mean(y_test == y_test_pred)\n",
      "print 'softmax on raw pixels final test set accuracy: %f' % (test_accuracy, )"
     ],
     "language": "python",
     "metadata": {},
     "outputs": [
      {
       "output_type": "stream",
       "stream": "stdout",
       "text": [
        "softmax on raw pixels final test set accuracy: 0.270000\n"
       ]
      }
     ],
     "prompt_number": 10
    },
    {
     "cell_type": "code",
     "collapsed": false,
     "input": [
      "# Visualize the learned weights for each class\n",
      "w = best_softmax.W[:,:-1] # strip out the bias\n",
      "w = w.reshape(10, 32, 32, 3)\n",
      "\n",
      "w_min, w_max = np.min(w), np.max(w)\n",
      "\n",
      "classes = ['plane', 'car', 'bird', 'cat', 'deer', 'dog', 'frog', 'horse', 'ship', 'truck']\n",
      "for i in xrange(10):\n",
      "  plt.subplot(2, 5, i + 1)\n",
      "  \n",
      "  # Rescale the weights to be between 0 and 255\n",
      "  wimg = 255.0 * (w[i].squeeze() - w_min) / (w_max - w_min)\n",
      "  plt.imshow(wimg.astype('uint8'))\n",
      "  plt.axis('off')\n",
      "  plt.title(classes[i])"
     ],
     "language": "python",
     "metadata": {},
     "outputs": [
      {
       "metadata": {},
       "output_type": "display_data",
       "png": "[encoded data removed]",
       "text": [
        "<matplotlib.figure.Figure at 0x7fca6dc34f90>"
       ]
      }
     ],
     "prompt_number": 11
    },
    {
     "cell_type": "code",
     "collapsed": false,
     "input": [],
     "language": "python",
     "metadata": {},
     "outputs": []
    }
   ],
   "metadata": {}
  }
 ]
}